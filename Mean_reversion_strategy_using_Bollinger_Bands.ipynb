{
  "nbformat": 4,
  "nbformat_minor": 0,
  "metadata": {
    "colab": {
      "private_outputs": true,
      "provenance": [],
      "authorship_tag": "ABX9TyNiJadZjSOosO1lC8DavYoi",
      "include_colab_link": true
    },
    "kernelspec": {
      "name": "python3",
      "display_name": "Python 3"
    },
    "language_info": {
      "name": "python"
    }
  },
  "cells": [
    {
      "cell_type": "markdown",
      "metadata": {
        "id": "view-in-github",
        "colab_type": "text"
      },
      "source": [
        "<a href=\"https://colab.research.google.com/github/nauvalZulfikar/Algotrading-projects/blob/main/Mean_reversion_strategy_using_Bollinger_Bands.ipynb\" target=\"_parent\"><img src=\"https://colab.research.google.com/assets/colab-badge.svg\" alt=\"Open In Colab\"/></a>"
      ]
    },
    {
      "cell_type": "code",
      "source": [
        "import numpy as np\n",
        "import pandas as pd\n",
        "import yfinance as yf\n",
        "import matplotlib.pyplot as plt\n",
        "\n",
        "# Download historical data\n",
        "def get_data(symbol, start, end):\n",
        "    df = yf.download(symbol, start=start, end=end)\n",
        "    df.columns = [df.columns[i][0] for i in range(len(df.columns))]\n",
        "    df['Returns'] = df['Close'].pct_change()\n",
        "    return df\n",
        "\n",
        "# Compute Bollinger Bands\n",
        "def calculate_bollinger_bands(df, window=20, num_std=2):\n",
        "    df['SMA'] = df['Close'].rolling(window).mean()\n",
        "    df['Upper Band'] = df['SMA'] + (df['Close'].rolling(window).std() * num_std)\n",
        "    df['Lower Band'] = df['SMA'] - (df['Close'].rolling(window).std() * num_std)\n",
        "    return df\n",
        "\n",
        "# Compute RSI\n",
        "def calculate_rsi(df, period=14):\n",
        "    delta = df['Close'].diff(1)\n",
        "    gain = (delta.where(delta > 0, 0)).rolling(window=period).mean()\n",
        "    loss = (-delta.where(delta < 0, 0)).rolling(window=period).mean()\n",
        "    rs = gain / loss\n",
        "    df['RSI'] = 100 - (100 / (1 + rs))\n",
        "    return df\n",
        "\n",
        "# Implement Mean Reversion Strategy\n",
        "def mean_reversion_strategy(df):\n",
        "    df['Position'] = 0\n",
        "    df.loc[(df['Close'] < df['Lower Band']) & (df['RSI'] < 30), 'Position'] = 1  # Buy Signal\n",
        "    df.loc[(df['Close'] > df['Upper Band']) & (df['RSI'] > 70), 'Position'] = -1  # Sell Signal\n",
        "    df['Strategy Returns'] = df['Position'].shift(1) * df['Returns']\n",
        "    return df\n",
        "\n",
        "# Backtest Performance\n",
        "def backtest(df, initial_capital=10000):\n",
        "    df['Cumulative Returns'] = (1 + df['Strategy Returns']).cumprod() * initial_capital\n",
        "    final_return = df['Cumulative Returns'].iloc[-1]\n",
        "\n",
        "    # Calculate backtesting metrics\n",
        "    df['Cumulative Max'] = df['Cumulative Returns'].cummax()\n",
        "    df['Drawdown'] = (df['Cumulative Returns'] / df['Cumulative Max']) - 1\n",
        "    total_return = df['Cumulative Returns'].iloc[-1] - initial_capital\n",
        "    sharpe_ratio = df['Strategy Returns'].mean() / df['Strategy Returns'].std() * np.sqrt(252)\n",
        "    max_drawdown = df['Drawdown'].min()\n",
        "    win_rate = (df['Strategy Returns'] > 0).sum() / df['Strategy Returns'].count()\n",
        "\n",
        "    print(f'Final Portfolio Value: ${final_return:.2f}')\n",
        "    print(f'Total Return: ${total_return:.2f}')\n",
        "    print(f'Sharpe Ratio: {sharpe_ratio:.2f}')\n",
        "    print(f'Max Drawdown: {max_drawdown:.2%}')\n",
        "    print(f'Win Rate: {win_rate:.2%}')\n",
        "\n",
        "    return df, final_return\n",
        "\n",
        "# Plot results\n",
        "def plot_results(df, symbol):\n",
        "    fig, ax1 = plt.subplots(figsize=(12,6))\n",
        "\n",
        "    # Plot price and Bollinger Bands\n",
        "    ax1.plot(df.index, df['Close'], label=f'{symbol} Price', color='black')\n",
        "    ax1.plot(df.index, df['Upper Band'], label='Upper Band', linestyle='dashed', color='red')\n",
        "    ax1.plot(df.index, df['Lower Band'], label='Lower Band', linestyle='dashed', color='green')\n",
        "    ax1.fill_between(df.index, df['Lower Band'], df['Upper Band'], color='gray', alpha=0.2)\n",
        "    ax1.scatter(df.index[df['Position'] == 1], df['Close'][df['Position'] == 1], label='Buy Signal', marker='^', color='green', s=100, alpha=1)\n",
        "    ax1.scatter(df.index[df['Position'] == -1], df['Close'][df['Position'] == -1], label='Sell Signal', marker='v', color='red', s=100, alpha=1)\n",
        "    ax1.set_ylabel('Price')\n",
        "    ax1.legend(loc='upper left')\n",
        "\n",
        "    # Create secondary axis for drawdown\n",
        "    ax2 = ax1.twinx()\n",
        "    ax2.plot(df.index, df['Drawdown'], label='Drawdown', color='blue', alpha=0.5)\n",
        "    ax2.fill_between(df.index, df['Drawdown'], 0, color='blue', alpha=0.2)\n",
        "    ax2.set_ylabel('Drawdown')\n",
        "    ax2.legend(loc='lower right')\n",
        "\n",
        "    plt.title(f'Mean Reversion Strategy on {symbol} with Drawdown')\n",
        "    plt.show()\n",
        "\n",
        "# Run the strategy\n",
        "symbol = 'AAPL'  # Change symbol if needed\n",
        "start = '2020-01-01'\n",
        "end = '2025-01-01'\n",
        "\n",
        "df = get_data(symbol, start, end)\n",
        "df = calculate_bollinger_bands(df)\n",
        "df = calculate_rsi(df)\n",
        "df = mean_reversion_strategy(df)\n",
        "df, final_value = backtest(df)\n",
        "\n",
        "plot_results(df, symbol)"
      ],
      "metadata": {
        "id": "bvymAK-Rhkuw"
      },
      "execution_count": null,
      "outputs": []
    },
    {
      "cell_type": "code",
      "source": [],
      "metadata": {
        "id": "6qhCh1d9ZnTk"
      },
      "execution_count": null,
      "outputs": []
    }
  ]
}